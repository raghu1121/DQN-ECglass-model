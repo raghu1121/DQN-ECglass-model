{
 "cells": [
  {
   "cell_type": "code",
   "execution_count": 1,
   "metadata": {},
   "outputs": [],
   "source": [
    "import pandas as pd\n",
    "\n",
    "untrimmed_df=pd.read_csv('results_3273.csv',usecols=[1,2,4])"
   ]
  },
  {
   "cell_type": "code",
   "execution_count": 2,
   "metadata": {},
   "outputs": [],
   "source": [
    "untrimmed_df[['DGP_1', 'DGP_2', 'DGP_3', 'DGP_4','ill_G1', 'ill_G2','PMV_1','PMV_2','PMV_3','PMV_4','Q_Heat_kW','Q_Cool_kW','QSOLTR_kW']]=untrimmed_df['state'].str.strip('[]').str.split(pat=',',expand=True,n=12)"
   ]
  },
  {
   "cell_type": "code",
   "execution_count": 3,
   "metadata": {},
   "outputs": [],
   "source": [
    "untrimmed_df[['altitude','azimuth','dir','diff','Occupancy']]=untrimmed_df['observation'].str.strip('[]').str.split(pat=',',expand=True,n=4)\n"
   ]
  },
  {
   "cell_type": "code",
   "execution_count": 4,
   "metadata": {},
   "outputs": [],
   "source": [
    "untrimmed_df['P_VC']=0\n",
    "untrimmed_df['P_TC']=0\n",
    "untrimmed_df['P_En']=0\n",
    "untrimmed_df['intgain']=0"
   ]
  },
  {
   "cell_type": "code",
   "execution_count": 5,
   "metadata": {},
   "outputs": [],
   "source": [
    "import itertools\n",
    "combinations = []\n",
    "combs = ['0', '1', '2', '3']\n",
    "for subset in itertools.product(combs, repeat=3):\n",
    "    combinations.append(subset)\n",
    "actions = {}\n",
    "dict = {}\n",
    "for i, combination in zip(range(0, 64, 1), combinations):\n",
    "    actions[combination[0] + combination[1] + combination[2]] = i\n",
    "    dict[i] = combination[0]+',' + combination[1] +',' + combination[2]"
   ]
  },
  {
   "cell_type": "code",
   "execution_count": 6,
   "metadata": {},
   "outputs": [],
   "source": [
    "#dict"
   ]
  },
  {
   "cell_type": "code",
   "execution_count": 7,
   "metadata": {},
   "outputs": [],
   "source": [
    "untrimmed_df['action']=untrimmed_df['action'].apply(int)"
   ]
  },
  {
   "cell_type": "code",
   "execution_count": null,
   "metadata": {},
   "outputs": [],
   "source": []
  },
  {
   "cell_type": "code",
   "execution_count": 8,
   "metadata": {},
   "outputs": [],
   "source": [
    "untrimmed_df['action']=untrimmed_df['action'].map(dict)"
   ]
  },
  {
   "cell_type": "code",
   "execution_count": 9,
   "metadata": {},
   "outputs": [],
   "source": [
    "#untrimmed_df[['T', 'M', 'D']]=untrimmed_df['action'].str.split(n=2)"
   ]
  },
  {
   "cell_type": "code",
   "execution_count": 10,
   "metadata": {},
   "outputs": [],
   "source": [
    "untrimmed_df[['T', 'M', 'D']]=untrimmed_df['action'].str.split(pat=',',expand=True,n=2)"
   ]
  },
  {
   "cell_type": "code",
   "execution_count": 11,
   "metadata": {},
   "outputs": [],
   "source": [
    "#untrimmed_df[['Time','T','M','D','P_VC','P_TC','P_En','intgain','DGP_1', 'DGP_2', 'DGP_3', 'DGP_4','ill_G1','ill_G2']]"
   ]
  },
  {
   "cell_type": "code",
   "execution_count": 12,
   "metadata": {},
   "outputs": [],
   "source": [
    "untrimmed_df['Time']=pd.Series(range(1,8760))"
   ]
  },
  {
   "cell_type": "code",
   "execution_count": 13,
   "metadata": {},
   "outputs": [],
   "source": [
    "#ctrl_dfs=pd.read_csv('ctrl.csv')\n",
    "#untrimmed_df=untrimmed_df.append(ctrl_dfs.loc[0,:],ignore_index=False)\n",
    "#untrimmed_df=untrimmed_df.append(ctrl_dfs.loc[8760,:],ignore_index=False)\n",
    "#untrimmed_df = untrimmed_df.sort_index().reset_index(drop=True)\n",
    "#untrimmed_df=pd.concat([ctrl_dfs.loc[0,:],untrimmed_df[0:,:]],axis =0)"
   ]
  },
  {
   "cell_type": "code",
   "execution_count": 17,
   "metadata": {},
   "outputs": [],
   "source": [
    "\n",
    "#untrimmed_df=untrimmed_df.merge(ctrl_dfs,left_on='Time')\n",
    "trimmed_df=untrimmed_df[['Time','T','M','D','P_VC','P_TC','P_En','intgain','DGP_1', 'DGP_2', 'DGP_3', 'DGP_4','ill_G1','ill_G2']]\n",
    "trimmed_df.to_csv('comfort_ctrl.csv',index=False)"
   ]
  },
  {
   "cell_type": "code",
   "execution_count": null,
   "metadata": {},
   "outputs": [],
   "source": []
  }
 ],
 "metadata": {
  "kernelspec": {
   "display_name": "Python 3",
   "language": "python",
   "name": "python3"
  },
  "language_info": {
   "codemirror_mode": {
    "name": "ipython",
    "version": 3
   },
   "file_extension": ".py",
   "mimetype": "text/x-python",
   "name": "python",
   "nbconvert_exporter": "python",
   "pygments_lexer": "ipython3",
   "version": "3.6.7"
  }
 },
 "nbformat": 4,
 "nbformat_minor": 2
}
